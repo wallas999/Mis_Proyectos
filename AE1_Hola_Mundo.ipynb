{
  "nbformat": 4,
  "nbformat_minor": 0,
  "metadata": {
    "colab": {
      "provenance": []
    },
    "kernelspec": {
      "name": "python3",
      "display_name": "Python 3"
    },
    "language_info": {
      "name": "python"
    }
  },
  "cells": [
    {
      "cell_type": "code",
      "execution_count": null,
      "metadata": {
        "id": "GJ8iVwTdJFqs"
      },
      "outputs": [],
      "source": []
    },
    {
      "cell_type": "markdown",
      "source": [
        "Acá va mi Ejercicio 1"
      ],
      "metadata": {
        "id": "7u7ipq9UJG5V"
      }
    },
    {
      "cell_type": "code",
      "source": [],
      "metadata": {
        "id": "QOWc4XtGJKWl"
      },
      "execution_count": null,
      "outputs": []
    },
    {
      "cell_type": "code",
      "source": [
        "print(\"Hola Mundo!\")"
      ],
      "metadata": {
        "colab": {
          "base_uri": "https://localhost:8080/"
        },
        "id": "CTaYkiUUJNUf",
        "outputId": "ca014ab8-863f-4ddd-9445-95da2fae710d"
      },
      "execution_count": 1,
      "outputs": [
        {
          "output_type": "stream",
          "name": "stdout",
          "text": [
            "Hola Mundo!\n"
          ]
        }
      ]
    },
    {
      "cell_type": "code",
      "source": [],
      "metadata": {
        "id": "VLBpqgJgJQ_z"
      },
      "execution_count": null,
      "outputs": []
    }
  ]
}